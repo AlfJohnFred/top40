{
 "cells": [
  {
   "cell_type": "code",
   "execution_count": 14,
   "metadata": {
    "collapsed": false
   },
   "outputs": [
    {
     "name": "stdout",
     "output_type": "stream",
     "text": [
      "Bm\n",
      "G\n",
      "D\n",
      "A\n"
     ]
    }
   ],
   "source": [
    "import requests\n",
    "import json\n",
    "\n",
    "\n",
    "url = \"http://api.guitarparty.com/v2/songs/?query=despacito\"\n",
    "headers = {'Guitarparty-Api-Key': '4b6e941c192e644e3dbde22520649ba9004f62a4'}\n",
    "t = requests.get(url, headers=headers)\n",
    "test=json.loads(t.text)\n",
    "\n",
    "#print (test['objects'][0]['chords'][0]['name'])\n",
    "\n",
    "for objects in test['objects']:\n",
    "    for chords in objects['chords']:\n",
    "        print (chords.get('name'))\n",
    "\n"
   ]
  },
  {
   "cell_type": "code",
   "execution_count": null,
   "metadata": {
    "collapsed": true
   },
   "outputs": [],
   "source": []
  }
 ],
 "metadata": {
  "kernelspec": {
   "display_name": "Python 3",
   "language": "python",
   "name": "python3"
  },
  "language_info": {
   "codemirror_mode": {
    "name": "ipython",
    "version": 3
   },
   "file_extension": ".py",
   "mimetype": "text/x-python",
   "name": "python",
   "nbconvert_exporter": "python",
   "pygments_lexer": "ipython3",
   "version": "3.6.0"
  }
 },
 "nbformat": 4,
 "nbformat_minor": 2
}
