{
 "cells": [
  {
   "cell_type": "markdown",
   "metadata": {},
   "source": [
    "<h1>Learning project</h1>\n",
    "<h3>Song data from Rolling Stone top 500 tracks</h3>\n",
    "<p>The obective of the project was to learn to use my newfound python skills to work out certain key objectives:</p>\n",
    "<ul>\n",
    "<li>Consume API's.</li>\n",
    "<li>Clean data sets.</li>\n",
    "<li>Learn pandas data manipulation.</li>\n",
    "<li>Create understandable visualizations.</li>\n",
    "</ul>"
   ]
  },
  {
   "cell_type": "markdown",
   "metadata": {},
   "source": [
    "<ul>\n",
    "<li><em>The json and requests import is for handling json data.</em></li>\n",
    "<li><em>all analysis and cleaning will be done using pandas.</em></li>\n",
    "<li><em>All visualizations will be done using the seaborn library.</em></li>\n",
    "</ul>"
   ]
  },
  {
   "cell_type": "code",
   "execution_count": 5,
   "metadata": {
    "collapsed": false
   },
   "outputs": [],
   "source": [
    "import requests\n",
    "import json\n",
    "import pandas as pd\n",
    "import numpy as np\n",
    "import seaborn as sns\n",
    "import matplotlib.pyplot as plt\n",
    "%matplotlib inline"
   ]
  },
  {
   "cell_type": "markdown",
   "metadata": {},
   "source": [
    "<h4>The guitar party api gives data regarding a particular song.</h4>\n",
    "<ol>\n",
    "<li><em>Use protected api's.</em></li>\n",
    "<li><em>Pick out data from nested json strings.</em></li>\n",
    "</ol>"
   ]
  },
  {
   "cell_type": "code",
   "execution_count": 73,
   "metadata": {
    "collapsed": false
   },
   "outputs": [
    {
     "name": "stdout",
     "output_type": "stream",
     "text": [
      "E\n",
      "D\n",
      "A\n",
      "B7\n"
     ]
    }
   ],
   "source": [
    "\n",
    "url = \"http://api.guitarparty.com/v2/songs/?query=Satisfaction\"\n",
    "headers = {'Guitarparty-Api-Key': '4b6e941c192e644e3dbde22520649ba9004f62a4'}\n",
    "t = requests.get(url, headers=headers)\n",
    "response=json.loads(t.text)\n",
    "\n",
    "for objects in response['objects']:\n",
    "    for chords in objects['chords']:\n",
    "        print (chords.get('name'))\n"
   ]
  },
  {
   "cell_type": "markdown",
   "metadata": {},
   "source": [
    "<ul>\n",
    "<li><em>The guitar party api is throttled at 150 requests an hour.</em></li>\n",
    "<li><em>To tackle this I divided the top 500 into blocks of 150.</em></li>\n",
    "<li><em>We now pass each of the lists in turn into the method for getting the list of chords used.</em></li>\n",
    "</ul>"
   ]
  },
  {
   "cell_type": "code",
   "execution_count": 77,
   "metadata": {
    "collapsed": false
   },
   "outputs": [],
   "source": [
    "df=pd.read_csv('top500.csv',names=['song','artist'])\n",
    "songList=df['song'].tolist()\n",
    "listOne=songList[0:150]\n",
    "listTwo=songList[151:300]\n",
    "listThree=songList[301:450]\n",
    "listFour=songList[451:500]"
   ]
  },
  {
   "cell_type": "code",
   "execution_count": 76,
   "metadata": {
    "collapsed": false
   },
   "outputs": [],
   "source": [
    "\n",
    "chordNames=[]\n",
    "for song in listFour:\n",
    "    url = \"http://api.guitarparty.com/v2/songs/?query=\"+song\n",
    "    headers = {'Guitarparty-Api-Key': '4b6e941c192e644e3dbde22520649ba9004f62a4'}\n",
    "    t = requests.get(url, headers=headers)\n",
    "    test=json.loads(t.text)\n",
    "    for objects in test['objects']:\n",
    "        for chords in objects['chords']:\n",
    "            chordNames.append(chords['name'])"
   ]
  },
  {
   "cell_type": "markdown",
   "metadata": {},
   "source": [
    "<em>The following code is to write the lists into a csv file to create a master a list of chords of all the 500 songs.</em>"
   ]
  },
  {
   "cell_type": "code",
   "execution_count": 19,
   "metadata": {
    "collapsed": false
   },
   "outputs": [],
   "source": [
    "names = pd.DataFrame(chordNames, columns=[\"colummn\"])\n",
    "names.to_csv('chordNames4.csv', index=False)"
   ]
  },
  {
   "cell_type": "markdown",
   "metadata": {},
   "source": [
    "<h5><em>This block of code collates the separate csv files and concatenates them into one master file</em></h5>"
   ]
  },
  {
   "cell_type": "code",
   "execution_count": 3,
   "metadata": {
    "collapsed": false
   },
   "outputs": [],
   "source": [
    "path =r'D:\\projects\\top40' # use your path\n",
    "allFiles = glob.glob(path + \"/*.csv\")\n",
    "frame = pd.DataFrame()\n",
    "list_ = []\n",
    "masterChordList = pd.concat((pd.read_csv(f) for f in allFiles))"
   ]
  },
  {
   "cell_type": "code",
   "execution_count": 9,
   "metadata": {
    "collapsed": false
   },
   "outputs": [
    {
     "name": "stdout",
     "output_type": "stream",
     "text": [
      "<class 'pandas.core.frame.DataFrame'>\n",
      "Int64Index: 6125 entries, 0 to 941\n",
      "Data columns (total 1 columns):\n",
      "colummn    6125 non-null object\n",
      "dtypes: object(1)\n",
      "memory usage: 95.7+ KB\n"
     ]
    }
   ],
   "source": [
    "masterChordList.info()"
   ]
  },
  {
   "cell_type": "code",
   "execution_count": 6,
   "metadata": {
    "collapsed": false
   },
   "outputs": [],
   "source": [
    "finalList = pd.read_csv('finalList.csv',names=['chords'])"
   ]
  },
  {
   "cell_type": "markdown",
   "metadata": {},
   "source": [
    "<h5>Data cleaning</h5>\n",
    "<ul>\n",
    "<li><em>The final list contains some faulty data.</em></li>\n",
    "<li><em>This is represented by $Am#7b5 : does not exist$.</em></li>\n",
    "<li><em>To clean such data the following function has been written to strip out the unwanted bits.</em></li>\n",
    "</ul>"
   ]
  },
  {
   "cell_type": "code",
   "execution_count": 10,
   "metadata": {
    "collapsed": false
   },
   "outputs": [],
   "source": [
    "def cleanChordNames(chords):\n",
    "    cleanChord=chords.split(':')[0]\n",
    "    return cleanChord\n",
    "clean=finalList['chords'].apply(lambda chords: cleanChordNames(chords))"
   ]
  },
  {
   "cell_type": "code",
   "execution_count": 11,
   "metadata": {
    "collapsed": false
   },
   "outputs": [],
   "source": [
    "clean=clean.tolist()"
   ]
  },
  {
   "cell_type": "markdown",
   "metadata": {
    "collapsed": true
   },
   "source": [
    " - *We now pass the clean list through a counter to recieve a dict of all chords with their counts.*\n",
    " - *This is then imported via the pandas DataFrame construct.*\n",
    " - *This DataFrame is then Reindexed and columns renamed for greater legibility.*\n",
    " - *This final readable reindexed column is passed into a seaborn barplot which is one option for making categorical plots.*\n",
    " - *This final image is then saved into the local project folder for distribution elsewhere.*"
   ]
  },
  {
   "cell_type": "code",
   "execution_count": 13,
   "metadata": {
    "collapsed": false
   },
   "outputs": [],
   "source": [
    "import collections\n",
    "counter= collections.Counter(chord for chord in clean)\n",
    "print(counter)"
   ]
  },
  {
   "cell_type": "code",
   "execution_count": 37,
   "metadata": {
    "collapsed": false
   },
   "outputs": [],
   "source": [
    "test=pd.DataFrame.from_dict(counter,orient='index')"
   ]
  },
  {
   "cell_type": "code",
   "execution_count": 63,
   "metadata": {
    "collapsed": false
   },
   "outputs": [
    {
     "data": {
      "text/html": [
       "<div>\n",
       "<table border=\"1\" class=\"dataframe\">\n",
       "  <thead>\n",
       "    <tr style=\"text-align: right;\">\n",
       "      <th></th>\n",
       "      <th>0</th>\n",
       "    </tr>\n",
       "  </thead>\n",
       "  <tbody>\n",
       "    <tr>\n",
       "      <th>C</th>\n",
       "      <td>788</td>\n",
       "    </tr>\n",
       "    <tr>\n",
       "      <th>G</th>\n",
       "      <td>562</td>\n",
       "    </tr>\n",
       "    <tr>\n",
       "      <th>F</th>\n",
       "      <td>502</td>\n",
       "    </tr>\n",
       "    <tr>\n",
       "      <th>G7</th>\n",
       "      <td>382</td>\n",
       "    </tr>\n",
       "    <tr>\n",
       "      <th>D7</th>\n",
       "      <td>365</td>\n",
       "    </tr>\n",
       "  </tbody>\n",
       "</table>\n",
       "</div>"
      ],
      "text/plain": [
       "      0\n",
       "C   788\n",
       "G   562\n",
       "F   502\n",
       "G7  382\n",
       "D7  365"
      ]
     },
     "execution_count": 63,
     "metadata": {},
     "output_type": "execute_result"
    }
   ],
   "source": [
    "#for legibility in plotting we will weed out the chords used less than 10 times accross the dataset.\n",
    "cleanTest=test[test[0]>10].sort_values(0, axis=0, ascending=False, inplace=False, kind='quicksort', na_position='last')\n",
    "cleanTest.head()"
   ]
  },
  {
   "cell_type": "code",
   "execution_count": 64,
   "metadata": {
    "collapsed": false
   },
   "outputs": [
    {
     "data": {
      "text/html": [
       "<div>\n",
       "<table border=\"1\" class=\"dataframe\">\n",
       "  <thead>\n",
       "    <tr style=\"text-align: right;\">\n",
       "      <th></th>\n",
       "      <th>index</th>\n",
       "      <th>0</th>\n",
       "    </tr>\n",
       "  </thead>\n",
       "  <tbody>\n",
       "    <tr>\n",
       "      <th>0</th>\n",
       "      <td>C</td>\n",
       "      <td>788</td>\n",
       "    </tr>\n",
       "    <tr>\n",
       "      <th>1</th>\n",
       "      <td>G</td>\n",
       "      <td>562</td>\n",
       "    </tr>\n",
       "    <tr>\n",
       "      <th>2</th>\n",
       "      <td>F</td>\n",
       "      <td>502</td>\n",
       "    </tr>\n",
       "    <tr>\n",
       "      <th>3</th>\n",
       "      <td>G7</td>\n",
       "      <td>382</td>\n",
       "    </tr>\n",
       "    <tr>\n",
       "      <th>4</th>\n",
       "      <td>D7</td>\n",
       "      <td>365</td>\n",
       "    </tr>\n",
       "  </tbody>\n",
       "</table>\n",
       "</div>"
      ],
      "text/plain": [
       "  index    0\n",
       "0     C  788\n",
       "1     G  562\n",
       "2     F  502\n",
       "3    G7  382\n",
       "4    D7  365"
      ]
     },
     "execution_count": 64,
     "metadata": {},
     "output_type": "execute_result"
    }
   ],
   "source": [
    "cleanTest = cleanTest.reset_index()\n",
    "cleanTest.head()"
   ]
  },
  {
   "cell_type": "code",
   "execution_count": 65,
   "metadata": {
    "collapsed": false
   },
   "outputs": [],
   "source": [
    "cleanTest.rename(columns={'index': 'chord', 0: 'count'}, inplace=True)"
   ]
  },
  {
   "cell_type": "code",
   "execution_count": 66,
   "metadata": {
    "collapsed": false
   },
   "outputs": [
    {
     "data": {
      "text/html": [
       "<div>\n",
       "<table border=\"1\" class=\"dataframe\">\n",
       "  <thead>\n",
       "    <tr style=\"text-align: right;\">\n",
       "      <th></th>\n",
       "      <th>chord</th>\n",
       "      <th>count</th>\n",
       "    </tr>\n",
       "  </thead>\n",
       "  <tbody>\n",
       "    <tr>\n",
       "      <th>0</th>\n",
       "      <td>C</td>\n",
       "      <td>788</td>\n",
       "    </tr>\n",
       "    <tr>\n",
       "      <th>1</th>\n",
       "      <td>G</td>\n",
       "      <td>562</td>\n",
       "    </tr>\n",
       "    <tr>\n",
       "      <th>2</th>\n",
       "      <td>F</td>\n",
       "      <td>502</td>\n",
       "    </tr>\n",
       "    <tr>\n",
       "      <th>3</th>\n",
       "      <td>G7</td>\n",
       "      <td>382</td>\n",
       "    </tr>\n",
       "    <tr>\n",
       "      <th>4</th>\n",
       "      <td>D7</td>\n",
       "      <td>365</td>\n",
       "    </tr>\n",
       "  </tbody>\n",
       "</table>\n",
       "</div>"
      ],
      "text/plain": [
       "  chord  count\n",
       "0     C    788\n",
       "1     G    562\n",
       "2     F    502\n",
       "3    G7    382\n",
       "4    D7    365"
      ]
     },
     "execution_count": 66,
     "metadata": {},
     "output_type": "execute_result"
    }
   ],
   "source": [
    "cleanTest.head()"
   ]
  },
  {
   "cell_type": "code",
   "execution_count": 69,
   "metadata": {
    "collapsed": false
   },
   "outputs": [
    {
     "data": {
      "image/png": "[encoded data removed]",
      "text/plain": [
       "<matplotlib.figure.Figure at 0x18fa77e3c50>"
      ]
     },
     "metadata": {},
     "output_type": "display_data"
    }
   ],
   "source": [
    "plt.figure(figsize=(30,9))\n",
    "chordDist=sns.barplot(x='chord',y='count',data=cleanTest)"
   ]
  },
  {
   "cell_type": "code",
   "execution_count": 70,
   "metadata": {
    "collapsed": true
   },
   "outputs": [],
   "source": [
    "fig= chordDist.get_figure()\n",
    "fig.savefig('chordDist.png')"
   ]
  },
  {
   "cell_type": "markdown",
   "metadata": {},
   "source": [
    "#### In conclusion all the learning objectives were acheived with a far greater understaning of pandas manipulation.\n",
    "#### The current project did not challenge in data cleansing. Next project will be chosen to get more familiar in those aspects.\n",
    "#### There was an added learning of markdown which i did not anticipate!\n",
    "#### All in all a pretty succesful foray into trying my own bit at data analysis! appreciate any comments and reviews on the abyssmal choices and mistakes i must surely have made :P"
   ]
  }
 ],
 "metadata": {
  "kernelspec": {
   "display_name": "Python 3",
   "language": "python",
   "name": "python3"
  },
  "language_info": {
   "codemirror_mode": {
    "name": "ipython",
    "version": 3
   },
   "file_extension": ".py",
   "mimetype": "text/x-python",
   "name": "python",
   "nbconvert_exporter": "python",
   "pygments_lexer": "ipython3",
   "version": "3.6.0"
  }
 },
 "nbformat": 4,
 "nbformat_minor": 2
}
